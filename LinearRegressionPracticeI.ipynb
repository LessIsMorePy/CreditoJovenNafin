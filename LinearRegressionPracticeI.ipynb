{
 "cells": [
  {
   "cell_type": "markdown",
   "metadata": {},
   "source": [
    "## Lineal Regression predicting ETH price\n",
    "### Least squares"
   ]
  },
  {
   "cell_type": "code",
   "execution_count": 336,
   "metadata": {},
   "outputs": [],
   "source": [
    "# Mudules\n",
    "import matplotlib.pyplot as plt\n",
    "import numpy as np\n",
    "from sklearn import linear_model\n",
    "from sklearn.metrics import mean_squared_error, r2_score\n",
    "\n",
    "plt.style.use('ggplot')"
   ]
  },
  {
   "cell_type": "code",
   "execution_count": 337,
   "metadata": {},
   "outputs": [],
   "source": [
    "# Ethereum price on may 2018"
   ]
  },
  {
   "cell_type": "code",
   "execution_count": 338,
   "metadata": {},
   "outputs": [],
   "source": [
    "may_train = np.array([np.arange(1, 15)]).T"
   ]
  },
  {
   "cell_type": "code",
   "execution_count": 339,
   "metadata": {},
   "outputs": [],
   "source": [
    "may_test = np.array([np.arange(1, 16)]).T"
   ]
  },
  {
   "cell_type": "code",
   "execution_count": 340,
   "metadata": {},
   "outputs": [],
   "source": [
    "eth_train = np.array([671.01, 687.99, 779.39, 785.52, 819.69, 793.79, 752.14, 754.0, 751.87, 723.39, 677.98, 682.69, 728.78, 727.41])"
   ]
  },
  {
   "cell_type": "code",
   "execution_count": 341,
   "metadata": {},
   "outputs": [],
   "source": [
    "# Apply linear regression model "
   ]
  },
  {
   "cell_type": "code",
   "execution_count": 342,
   "metadata": {},
   "outputs": [],
   "source": [
    "regr = linear_model.LinearRegression()"
   ]
  },
  {
   "cell_type": "code",
   "execution_count": 343,
   "metadata": {
    "scrolled": true
   },
   "outputs": [
    {
     "data": {
      "text/plain": [
       "LinearRegression(copy_X=True, fit_intercept=True, n_jobs=1, normalize=False)"
      ]
     },
     "execution_count": 343,
     "metadata": {},
     "output_type": "execute_result"
    }
   ],
   "source": [
    "regr.fit(may_train, eth_train)"
   ]
  },
  {
   "cell_type": "code",
   "execution_count": 344,
   "metadata": {},
   "outputs": [],
   "source": [
    "# Prediction\n",
    "eth_predict = regr.predict(may_test)"
   ]
  },
  {
   "cell_type": "code",
   "execution_count": 345,
   "metadata": {},
   "outputs": [
    {
     "data": {
      "text/plain": [
       "Text(0.5,1,'Currency')"
      ]
     },
     "execution_count": 345,
     "metadata": {},
     "output_type": "execute_result"
    },
    {
     "data": {
      "image/png": "[encoded data removed]",
      "text/plain": [
       "<matplotlib.figure.Figure at 0x2815379c4a8>"
      ]
     },
     "metadata": {},
     "output_type": "display_data"
    }
   ],
   "source": [
    "plt.scatter(may_train, eth_train, label='ETH price')\n",
    "plt.plot(may_test, eth_predict, color = 'blue', label='Regression')\n",
    "\n",
    "plt.legend()\n",
    "plt.xlabel('May 2018')\n",
    "plt.ylabel('ETH [USD]')\n",
    "plt.title('Currency')"
   ]
  },
  {
   "cell_type": "code",
   "execution_count": 346,
   "metadata": {},
   "outputs": [
    {
     "name": "stdout",
     "output_type": "stream",
     "text": [
      "May size data train: 14\n",
      "Eth size data train: 14\n",
      "May size data test: 15\n",
      "Eth size prediction: 15\n",
      "\n"
     ]
    }
   ],
   "source": [
    "print('May size data train: {}\\nEth size data train: {}\\nMay size data test: {}\\nEth size prediction: {}\\n'.format(may_train.size, eth_train.size, eth_predict.size, may_test.size))"
   ]
  },
  {
   "cell_type": "code",
   "execution_count": 347,
   "metadata": {
    "scrolled": true
   },
   "outputs": [
    {
     "name": "stdout",
     "output_type": "stream",
     "text": [
      "Prediction for one day later: \n",
      " 721.0092307692308\n"
     ]
    }
   ],
   "source": [
    "print('Prediction for one day later: \\n', eth_predict[-1])"
   ]
  },
  {
   "cell_type": "code",
   "execution_count": 348,
   "metadata": {},
   "outputs": [
    {
     "data": {
      "text/plain": [
       "array([753.212     , 750.9118022 , 748.6116044 , 746.31140659,\n",
       "       744.01120879, 741.71101099, 739.41081319, 737.11061538,\n",
       "       734.81041758, 732.51021978, 730.21002198, 727.90982418,\n",
       "       725.60962637, 723.30942857, 721.00923077])"
      ]
     },
     "execution_count": 348,
     "metadata": {},
     "output_type": "execute_result"
    }
   ],
   "source": [
    "eth_predict"
   ]
  },
  {
   "cell_type": "code",
   "execution_count": 349,
   "metadata": {},
   "outputs": [
    {
     "name": "stdout",
     "output_type": "stream",
     "text": [
      "Coefficients: \n",
      " [-2.3001978]\n"
     ]
    }
   ],
   "source": [
    "print('Coefficients: \\n', regr.coef_)"
   ]
  },
  {
   "cell_type": "code",
   "execution_count": 350,
   "metadata": {},
   "outputs": [
    {
     "data": {
      "text/plain": [
       "531805.5938364938"
      ]
     },
     "execution_count": 350,
     "metadata": {},
     "output_type": "execute_result"
    }
   ],
   "source": [
    "mean_squared_error(may_test, eth_predict)"
   ]
  },
  {
   "cell_type": "code",
   "execution_count": 351,
   "metadata": {},
   "outputs": [
    {
     "name": "stdout",
     "output_type": "stream",
     "text": [
      "Prediction for one day:\n",
      " [721.00923077]\n"
     ]
    }
   ],
   "source": [
    "# Predict on day may 15\n",
    "eth_predict_day = regr.predict(15)\n",
    "print('Prediction for one day:\\n', eth_predict_day)"
   ]
  },
  {
   "cell_type": "code",
   "execution_count": 352,
   "metadata": {
    "scrolled": true
   },
   "outputs": [
    {
     "name": "stdout",
     "output_type": "stream",
     "text": [
      "R2 Score:\n",
      " 0.042285951998868865\n"
     ]
    }
   ],
   "source": [
    "# R2 Score\n",
    "print(\"R2 Score:\\n\", regr.score(may_train, eth_train))"
   ]
  },
  {
   "cell_type": "markdown",
   "metadata": {},
   "source": [
    "# Polynomial interpolation predicting ETH price\n",
    "\n",
    "## Testing with Ridge()\n",
    "## Testing with LinearRegression() "
   ]
  },
  {
   "cell_type": "code",
   "execution_count": 353,
   "metadata": {},
   "outputs": [],
   "source": [
    "from sklearn.linear_model import Ridge\n",
    "from sklearn.preprocessing import PolynomialFeatures\n",
    "from sklearn.pipeline import make_pipeline"
   ]
  },
  {
   "cell_type": "code",
   "execution_count": 354,
   "metadata": {},
   "outputs": [
    {
     "name": "stdout",
     "output_type": "stream",
     "text": [
      "Pipeline(memory=None,\n",
      "     steps=[('polynomialfeatures', PolynomialFeatures(degree=3, include_bias=True, interaction_only=False)), ('ridge', Ridge(alpha=1.0, copy_X=True, fit_intercept=True, max_iter=None,\n",
      "   normalize=False, random_state=None, solver='auto', tol=0.001))]) \n",
      " Pipeline(memory=None,\n",
      "     steps=[('polynomialfeatures', PolynomialFeatures(degree=3, include_bias=True, interaction_only=False)), ('linearregression', LinearRegression(copy_X=True, fit_intercept=False, n_jobs=1, normalize=False))])\n"
     ]
    }
   ],
   "source": [
    "degree = 3\n",
    "model_R = make_pipeline(PolynomialFeatures(degree), Ridge())\n",
    "model_LR = make_pipeline(PolynomialFeatures(degree), linear_model.LinearRegression(fit_intercept=False))\n",
    "print(model_R,'\\n', model_LR)"
   ]
  },
  {
   "cell_type": "code",
   "execution_count": 355,
   "metadata": {},
   "outputs": [
    {
     "data": {
      "text/plain": [
       "Pipeline(memory=None,\n",
       "     steps=[('polynomialfeatures', PolynomialFeatures(degree=3, include_bias=True, interaction_only=False)), ('linearregression', LinearRegression(copy_X=True, fit_intercept=False, n_jobs=1, normalize=False))])"
      ]
     },
     "execution_count": 355,
     "metadata": {},
     "output_type": "execute_result"
    }
   ],
   "source": [
    "model_R.fit(may_train, eth_train)\n",
    "model_LR.fit(may_train, eth_train)"
   ]
  },
  {
   "cell_type": "code",
   "execution_count": 356,
   "metadata": {},
   "outputs": [],
   "source": [
    "model_predict_R = model_R.predict(may_test)\n",
    "model_predict_LR = model_LR.predict(may_test)"
   ]
  },
  {
   "cell_type": "code",
   "execution_count": 357,
   "metadata": {},
   "outputs": [
    {
     "data": {
      "text/plain": [
       "Text(0.5,1,'Currency')"
      ]
     },
     "execution_count": 357,
     "metadata": {},
     "output_type": "execute_result"
    },
    {
     "data": {
      "image/png": "[encoded data removed]",
      "text/plain": [
       "<matplotlib.figure.Figure at 0x2815380b0f0>"
      ]
     },
     "metadata": {},
     "output_type": "display_data"
    }
   ],
   "source": [
    "plt.scatter(may_train, eth_train, label='ETH price')\n",
    "plt.plot(may_test, model_predict_R, color = 'blue', label='Polynomial R degree {}'.format(degree))\n",
    "plt.plot(may_test, model_predict_LR, color = 'gray', label='Polynomial LR degree {}'.format(degree))\n",
    "\n",
    "plt.legend(loc='best')\n",
    "plt.xlabel('May 2018')\n",
    "plt.ylabel('ETH [USD]')\n",
    "plt.title('Currency')"
   ]
  },
  {
   "cell_type": "code",
   "execution_count": 358,
   "metadata": {},
   "outputs": [
    {
     "name": "stdout",
     "output_type": "stream",
     "text": [
      "15 15\n"
     ]
    }
   ],
   "source": [
    "print(model_predict_R.size, model_predict_LR.size)"
   ]
  },
  {
   "cell_type": "code",
   "execution_count": 359,
   "metadata": {},
   "outputs": [
    {
     "name": "stdout",
     "output_type": "stream",
     "text": [
      "Prediction for the next day, R:738.3169782540325 and LR:783.1847652347801\n"
     ]
    }
   ],
   "source": [
    "print('Prediction for the next day, R:{} and LR:{}'.format(model_predict_R[-1], model_predict_LR[-1]))"
   ]
  },
  {
   "cell_type": "markdown",
   "metadata": {},
   "source": [
    "# Nearest Neighbors regression predicting ETH price\n"
   ]
  },
  {
   "cell_type": "code",
   "execution_count": 367,
   "metadata": {},
   "outputs": [],
   "source": [
    "from sklearn import neighbors"
   ]
  },
  {
   "cell_type": "code",
   "execution_count": 374,
   "metadata": {},
   "outputs": [],
   "source": [
    "knn_dis = neighbors.KNeighborsRegressor(n_neighbors=5, weights='distance')\n",
    "knn_uni = neighbors.KNeighborsRegressor(n_neighbors=5, weights='uniform')"
   ]
  },
  {
   "cell_type": "code",
   "execution_count": 375,
   "metadata": {},
   "outputs": [
    {
     "data": {
      "text/plain": [
       "KNeighborsRegressor(algorithm='auto', leaf_size=30, metric='minkowski',\n",
       "          metric_params=None, n_jobs=1, n_neighbors=5, p=2,\n",
       "          weights='uniform')"
      ]
     },
     "execution_count": 375,
     "metadata": {},
     "output_type": "execute_result"
    }
   ],
   "source": [
    "knn_dis.fit(may_train, eth_train)\n",
    "knn_uni.fit(may_train, eth_train)"
   ]
  },
  {
   "cell_type": "code",
   "execution_count": 376,
   "metadata": {},
   "outputs": [],
   "source": [
    "knn_predict_dis = knn_dis.predict(may_test)\n",
    "knn_predict_uni = knn_uni.predict(may_test)"
   ]
  },
  {
   "cell_type": "code",
   "execution_count": 388,
   "metadata": {},
   "outputs": [
    {
     "data": {
      "text/plain": [
       "Text(0,0.5,'ETH [USD]')"
      ]
     },
     "execution_count": 388,
     "metadata": {},
     "output_type": "execute_result"
    },
    {
     "data": {
      "image/png": "[encoded data removed]",
      "text/plain": [
       "<matplotlib.figure.Figure at 0x2815509c160>"
      ]
     },
     "metadata": {},
     "output_type": "display_data"
    }
   ],
   "source": [
    "plt.subplot(2, 1, 1)\n",
    "plt.scatter(may_train, eth_train, label='ETH price')\n",
    "plt.plot(may_test, knn_predict_dis, color='green', label='K-Nearest Neighbor distance')\n",
    "\n",
    "plt.legend(loc='best')\n",
    "plt.xlabel('May 2018')\n",
    "plt.ylabel('ETH [USD]')\n",
    "plt.title('Currency')\n",
    "\n",
    "plt.subplot(2, 1, 2)\n",
    "plt.scatter(may_train, eth_train, label='ETH price')\n",
    "plt.plot(may_test, knn_predict_uni, color='green', label='K-Nearest Neighbor uniform')\n",
    "\n",
    "plt.legend(loc='best')\n",
    "plt.xlabel('May 2018')\n",
    "plt.ylabel('ETH [USD]')\n",
    "\n"
   ]
  },
  {
   "cell_type": "code",
   "execution_count": 379,
   "metadata": {},
   "outputs": [
    {
     "name": "stdout",
     "output_type": "stream",
     "text": [
      "15 15\n"
     ]
    }
   ],
   "source": [
    "print(knn_predict_dis.size, knn_predict_uni.size)"
   ]
  },
  {
   "cell_type": "code",
   "execution_count": 380,
   "metadata": {},
   "outputs": [
    {
     "name": "stdout",
     "output_type": "stream",
     "text": [
      "Prediction for the next day, knn_dis: 715.4173722627736 and knn_uni 708.05 \n"
     ]
    }
   ],
   "source": [
    "print('Prediction for the next day, knn_dis: {} and knn_uni {} '.format(knn_predict_dis[-1], knn_predict_uni[-1]))"
   ]
  },
  {
   "cell_type": "code",
   "execution_count": null,
   "metadata": {},
   "outputs": [],
   "source": []
  }
 ],
 "metadata": {
  "kernelspec": {
   "display_name": "Python 3",
   "language": "python",
   "name": "python3"
  },
  "language_info": {
   "codemirror_mode": {
    "name": "ipython",
    "version": 3
   },
   "file_extension": ".py",
   "mimetype": "text/x-python",
   "name": "python",
   "nbconvert_exporter": "python",
   "pygments_lexer": "ipython3",
   "version": "3.6.4"
  }
 },
 "nbformat": 4,
 "nbformat_minor": 2
}

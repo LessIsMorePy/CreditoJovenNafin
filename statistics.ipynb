{
 "cells": [
  {
   "cell_type": "markdown",
   "metadata": {},
   "source": [
    "# Crédito Joven  Nafin analysis "
   ]
  },
  {
   "cell_type": "code",
   "execution_count": 39,
   "metadata": {},
   "outputs": [],
   "source": [
    "import pandas as pd\n",
    "import matplotlib.pyplot as plt"
   ]
  },
  {
   "cell_type": "code",
   "execution_count": 3,
   "metadata": {},
   "outputs": [],
   "source": [
    "df = pd.read_csv(\"data_CreditoJoven.csv\",  sep=';', encoding='cp1252')"
   ]
  },
  {
   "cell_type": "code",
   "execution_count": 5,
   "metadata": {
    "scrolled": true
   },
   "outputs": [
    {
     "data": {
      "text/html": [
       "<div>\n",
       "<style scoped>\n",
       "    .dataframe tbody tr th:only-of-type {\n",
       "        vertical-align: middle;\n",
       "    }\n",
       "\n",
       "    .dataframe tbody tr th {\n",
       "        vertical-align: top;\n",
       "    }\n",
       "\n",
       "    .dataframe thead th {\n",
       "        text-align: right;\n",
       "    }\n",
       "</style>\n",
       "<table border=\"1\" class=\"dataframe\">\n",
       "  <thead>\n",
       "    <tr style=\"text-align: right;\">\n",
       "      <th></th>\n",
       "      <th>Año</th>\n",
       "      <th>Mes</th>\n",
       "      <th>Productos</th>\n",
       "      <th>Clave  Estado</th>\n",
       "      <th>Estado</th>\n",
       "      <th>Importe de los creditos</th>\n",
       "      <th>Numero de Creditos</th>\n",
       "      <th>Numero de Beneficiados</th>\n",
       "    </tr>\n",
       "  </thead>\n",
       "  <tbody>\n",
       "    <tr>\n",
       "      <th>0</th>\n",
       "      <td>2016</td>\n",
       "      <td>2</td>\n",
       "      <td>1.- TU CREDITO PARA CRECER</td>\n",
       "      <td>1014000</td>\n",
       "      <td>JALISCO</td>\n",
       "      <td>60000.0</td>\n",
       "      <td>1</td>\n",
       "      <td>1</td>\n",
       "    </tr>\n",
       "    <tr>\n",
       "      <th>1</th>\n",
       "      <td>2017</td>\n",
       "      <td>11</td>\n",
       "      <td>2.- TU CREDITO PYME JOVEN</td>\n",
       "      <td>1007000</td>\n",
       "      <td>CHIAPAS</td>\n",
       "      <td>4500000.0</td>\n",
       "      <td>2</td>\n",
       "      <td>2</td>\n",
       "    </tr>\n",
       "    <tr>\n",
       "      <th>2</th>\n",
       "      <td>2016</td>\n",
       "      <td>7</td>\n",
       "      <td>2.- TU CREDITO PYME JOVEN</td>\n",
       "      <td>1011000</td>\n",
       "      <td>GUANAJUATO</td>\n",
       "      <td>2903000.0</td>\n",
       "      <td>4</td>\n",
       "      <td>4</td>\n",
       "    </tr>\n",
       "    <tr>\n",
       "      <th>3</th>\n",
       "      <td>2015</td>\n",
       "      <td>8</td>\n",
       "      <td>1.- TU CREDITO PARA CRECER</td>\n",
       "      <td>1007000</td>\n",
       "      <td>CHIAPAS</td>\n",
       "      <td>236000.0</td>\n",
       "      <td>1</td>\n",
       "      <td>1</td>\n",
       "    </tr>\n",
       "    <tr>\n",
       "      <th>4</th>\n",
       "      <td>2016</td>\n",
       "      <td>7</td>\n",
       "      <td>2.- TU CREDITO PYME JOVEN</td>\n",
       "      <td>1004000</td>\n",
       "      <td>CAMPECHE</td>\n",
       "      <td>2500000.0</td>\n",
       "      <td>1</td>\n",
       "      <td>1</td>\n",
       "    </tr>\n",
       "  </tbody>\n",
       "</table>\n",
       "</div>"
      ],
      "text/plain": [
       "    Año  Mes                   Productos  Clave  Estado      Estado  \\\n",
       "0  2016    2  1.- TU CREDITO PARA CRECER        1014000     JALISCO   \n",
       "1  2017   11   2.- TU CREDITO PYME JOVEN        1007000     CHIAPAS   \n",
       "2  2016    7   2.- TU CREDITO PYME JOVEN        1011000  GUANAJUATO   \n",
       "3  2015    8  1.- TU CREDITO PARA CRECER        1007000     CHIAPAS   \n",
       "4  2016    7   2.- TU CREDITO PYME JOVEN        1004000    CAMPECHE   \n",
       "\n",
       "   Importe de los creditos  Numero de Creditos  Numero de Beneficiados  \n",
       "0                  60000.0                   1                       1  \n",
       "1                4500000.0                   2                       2  \n",
       "2                2903000.0                   4                       4  \n",
       "3                 236000.0                   1                       1  \n",
       "4                2500000.0                   1                       1  "
      ]
     },
     "execution_count": 5,
     "metadata": {},
     "output_type": "execute_result"
    }
   ],
   "source": [
    "df.head()"
   ]
  },
  {
   "cell_type": "markdown",
   "metadata": {},
   "source": [
    "# Basic statistics over the credit column  "
   ]
  },
  {
   "cell_type": "code",
   "execution_count": 6,
   "metadata": {
    "scrolled": true
   },
   "outputs": [
    {
     "data": {
      "text/html": [
       "<div>\n",
       "<style scoped>\n",
       "    .dataframe tbody tr th:only-of-type {\n",
       "        vertical-align: middle;\n",
       "    }\n",
       "\n",
       "    .dataframe tbody tr th {\n",
       "        vertical-align: top;\n",
       "    }\n",
       "\n",
       "    .dataframe thead th {\n",
       "        text-align: right;\n",
       "    }\n",
       "</style>\n",
       "<table border=\"1\" class=\"dataframe\">\n",
       "  <thead>\n",
       "    <tr style=\"text-align: right;\">\n",
       "      <th></th>\n",
       "      <th>Importe de los creditos</th>\n",
       "    </tr>\n",
       "  </thead>\n",
       "  <tbody>\n",
       "    <tr>\n",
       "      <th>count</th>\n",
       "      <td>1.478000e+03</td>\n",
       "    </tr>\n",
       "    <tr>\n",
       "      <th>mean</th>\n",
       "      <td>1.314402e+06</td>\n",
       "    </tr>\n",
       "    <tr>\n",
       "      <th>std</th>\n",
       "      <td>2.189663e+06</td>\n",
       "    </tr>\n",
       "    <tr>\n",
       "      <th>min</th>\n",
       "      <td>2.500000e+04</td>\n",
       "    </tr>\n",
       "    <tr>\n",
       "      <th>25%</th>\n",
       "      <td>2.132500e+05</td>\n",
       "    </tr>\n",
       "    <tr>\n",
       "      <th>50%</th>\n",
       "      <td>4.630000e+05</td>\n",
       "    </tr>\n",
       "    <tr>\n",
       "      <th>75%</th>\n",
       "      <td>1.465000e+06</td>\n",
       "    </tr>\n",
       "    <tr>\n",
       "      <th>max</th>\n",
       "      <td>2.007643e+07</td>\n",
       "    </tr>\n",
       "  </tbody>\n",
       "</table>\n",
       "</div>"
      ],
      "text/plain": [
       "       Importe de los creditos\n",
       "count             1.478000e+03\n",
       "mean              1.314402e+06\n",
       "std               2.189663e+06\n",
       "min               2.500000e+04\n",
       "25%               2.132500e+05\n",
       "50%               4.630000e+05\n",
       "75%               1.465000e+06\n",
       "max               2.007643e+07"
      ]
     },
     "execution_count": 6,
     "metadata": {},
     "output_type": "execute_result"
    }
   ],
   "source": [
    "df.loc[:,['Importe de los creditos']].describe()"
   ]
  },
  {
   "cell_type": "code",
   "execution_count": 7,
   "metadata": {},
   "outputs": [
    {
     "data": {
      "text/plain": [
       "20076428.57"
      ]
     },
     "execution_count": 7,
     "metadata": {},
     "output_type": "execute_result"
    }
   ],
   "source": [
    "# Maximun credit \n",
    "df['Importe de los creditos'].max()"
   ]
  },
  {
   "cell_type": "code",
   "execution_count": 8,
   "metadata": {},
   "outputs": [
    {
     "data": {
      "text/html": [
       "<div>\n",
       "<style scoped>\n",
       "    .dataframe tbody tr th:only-of-type {\n",
       "        vertical-align: middle;\n",
       "    }\n",
       "\n",
       "    .dataframe tbody tr th {\n",
       "        vertical-align: top;\n",
       "    }\n",
       "\n",
       "    .dataframe thead th {\n",
       "        text-align: right;\n",
       "    }\n",
       "</style>\n",
       "<table border=\"1\" class=\"dataframe\">\n",
       "  <thead>\n",
       "    <tr style=\"text-align: right;\">\n",
       "      <th></th>\n",
       "      <th>Año</th>\n",
       "      <th>Mes</th>\n",
       "      <th>Productos</th>\n",
       "      <th>Clave  Estado</th>\n",
       "      <th>Estado</th>\n",
       "      <th>Importe de los creditos</th>\n",
       "      <th>Numero de Creditos</th>\n",
       "      <th>Numero de Beneficiados</th>\n",
       "    </tr>\n",
       "  </thead>\n",
       "  <tbody>\n",
       "    <tr>\n",
       "      <th>1422</th>\n",
       "      <td>2017</td>\n",
       "      <td>11</td>\n",
       "      <td>2.- TU CREDITO PYME JOVEN</td>\n",
       "      <td>1021000</td>\n",
       "      <td>PUEBLA</td>\n",
       "      <td>20076428.57</td>\n",
       "      <td>14</td>\n",
       "      <td>14</td>\n",
       "    </tr>\n",
       "  </tbody>\n",
       "</table>\n",
       "</div>"
      ],
      "text/plain": [
       "       Año  Mes                  Productos  Clave  Estado  Estado  \\\n",
       "1422  2017   11  2.- TU CREDITO PYME JOVEN        1021000  PUEBLA   \n",
       "\n",
       "      Importe de los creditos  Numero de Creditos  Numero de Beneficiados  \n",
       "1422              20076428.57                  14                      14  "
      ]
     },
     "execution_count": 8,
     "metadata": {},
     "output_type": "execute_result"
    }
   ],
   "source": [
    "df.loc[df['Importe de los creditos'] == df['Importe de los creditos'].max()]"
   ]
  },
  {
   "cell_type": "code",
   "execution_count": 9,
   "metadata": {},
   "outputs": [
    {
     "data": {
      "text/plain": [
       "25000.0"
      ]
     },
     "execution_count": 9,
     "metadata": {},
     "output_type": "execute_result"
    }
   ],
   "source": [
    "# Minimum credit\n",
    "df['Importe de los creditos'].min()"
   ]
  },
  {
   "cell_type": "code",
   "execution_count": 10,
   "metadata": {
    "scrolled": true
   },
   "outputs": [
    {
     "data": {
      "text/html": [
       "<div>\n",
       "<style scoped>\n",
       "    .dataframe tbody tr th:only-of-type {\n",
       "        vertical-align: middle;\n",
       "    }\n",
       "\n",
       "    .dataframe tbody tr th {\n",
       "        vertical-align: top;\n",
       "    }\n",
       "\n",
       "    .dataframe thead th {\n",
       "        text-align: right;\n",
       "    }\n",
       "</style>\n",
       "<table border=\"1\" class=\"dataframe\">\n",
       "  <thead>\n",
       "    <tr style=\"text-align: right;\">\n",
       "      <th></th>\n",
       "      <th>Año</th>\n",
       "      <th>Mes</th>\n",
       "      <th>Productos</th>\n",
       "      <th>Clave  Estado</th>\n",
       "      <th>Estado</th>\n",
       "      <th>Importe de los creditos</th>\n",
       "      <th>Numero de Creditos</th>\n",
       "      <th>Numero de Beneficiados</th>\n",
       "    </tr>\n",
       "  </thead>\n",
       "  <tbody>\n",
       "    <tr>\n",
       "      <th>164</th>\n",
       "      <td>2015</td>\n",
       "      <td>9</td>\n",
       "      <td>1.- TU CREDITO PARA CRECER</td>\n",
       "      <td>1015000</td>\n",
       "      <td>MEXICO</td>\n",
       "      <td>25000.0</td>\n",
       "      <td>1</td>\n",
       "      <td>1</td>\n",
       "    </tr>\n",
       "  </tbody>\n",
       "</table>\n",
       "</div>"
      ],
      "text/plain": [
       "      Año  Mes                   Productos  Clave  Estado  Estado  \\\n",
       "164  2015    9  1.- TU CREDITO PARA CRECER        1015000  MEXICO   \n",
       "\n",
       "     Importe de los creditos  Numero de Creditos  Numero de Beneficiados  \n",
       "164                  25000.0                   1                       1  "
      ]
     },
     "execution_count": 10,
     "metadata": {},
     "output_type": "execute_result"
    }
   ],
   "source": [
    "df.loc[df['Importe de los creditos'] == df['Importe de los creditos'].min()]"
   ]
  },
  {
   "cell_type": "markdown",
   "metadata": {},
   "source": [
    "# Credits given"
   ]
  },
  {
   "cell_type": "code",
   "execution_count": 27,
   "metadata": {
    "scrolled": true
   },
   "outputs": [
    {
     "data": {
      "text/plain": [
       "Productos\n",
       "1.- TU CREDITO PARA CRECER     434\n",
       "2.- TU CREDITO PYME JOVEN     1737\n",
       "3.- INCUBACION EN LINEA       2895\n",
       "4.- INCUBACION PRESENCIAL       64\n",
       "Name: Numero de Creditos, dtype: int64"
      ]
     },
     "execution_count": 27,
     "metadata": {},
     "output_type": "execute_result"
    }
   ],
   "source": [
    "# Products\n",
    "products_group = df.groupby(['Productos'])['Numero de Creditos'].sum()\n",
    "products_group"
   ]
  },
  {
   "cell_type": "code",
   "execution_count": 43,
   "metadata": {},
   "outputs": [
    {
     "data": {
      "text/plain": [
       "Text(0.5,1,'Créditos otorgados por Producto')"
      ]
     },
     "execution_count": 43,
     "metadata": {},
     "output_type": "execute_result"
    },
    {
     "data": {
      "image/png": "[encoded data removed]",
      "text/plain": [
       "<matplotlib.figure.Figure at 0x120c02ae828>"
      ]
     },
     "metadata": {},
     "output_type": "display_data"
    }
   ],
   "source": [
    "products_group.plot(kind ='bar')\n",
    "plt.title('Créditos otorgados por Producto')"
   ]
  },
  {
   "cell_type": "code",
   "execution_count": 34,
   "metadata": {},
   "outputs": [
    {
     "data": {
      "text/plain": [
       "Estado\n",
       "AGUASCALIENTES           102\n",
       "BAJA CALIFORNIA NORTE    131\n",
       "BAJA CALIFORNIA SUR       98\n",
       "CAMPECHE                 251\n",
       "CHIAPAS                   76\n",
       "CHIHUAHUA                149\n",
       "CIUDAD DE MEXICO         272\n",
       "COAHUILA                 257\n",
       "COLIMA                    34\n",
       "DURANGO                  125\n",
       "GUANAJUATO               152\n",
       "GUERRERO                 139\n",
       "HIDALGO                  239\n",
       "JALISCO                  270\n",
       "MEXICO                   358\n",
       "MICHOACAN                222\n",
       "MORELOS                   81\n",
       "NAYARIT                  174\n",
       "NUEVO LEON               293\n",
       "OAXACA                   141\n",
       "PUEBLA                   275\n",
       "QUERETARO                144\n",
       "QUINTANA ROO              46\n",
       "SAN LUIS POTOSI           98\n",
       "SINALOA                  404\n",
       "SONORA                   106\n",
       "TABASCO                   46\n",
       "TAMAULIPAS               115\n",
       "TLAXCALA                 101\n",
       "VERACRUZ                 126\n",
       "YUCATAN                   92\n",
       "ZACATECAS                 13\n",
       "Name: Numero de Creditos, dtype: int64"
      ]
     },
     "execution_count": 34,
     "metadata": {},
     "output_type": "execute_result"
    }
   ],
   "source": [
    "# Credits by State\n",
    "state_group = df.groupby(['Estado'])['Numero de Creditos'].sum()\n",
    "state_group"
   ]
  },
  {
   "cell_type": "markdown",
   "metadata": {},
   "source": [
    "# Credits given by State"
   ]
  },
  {
   "cell_type": "code",
   "execution_count": 42,
   "metadata": {},
   "outputs": [
    {
     "data": {
      "text/plain": [
       "Text(0.5,1,'Créditos otorgados por Estado')"
      ]
     },
     "execution_count": 42,
     "metadata": {},
     "output_type": "execute_result"
    },
    {
     "data": {
      "image/png": "[encoded data removed]",
      "text/plain": [
       "<matplotlib.figure.Figure at 0x120bf1a42b0>"
      ]
     },
     "metadata": {},
     "output_type": "display_data"
    }
   ],
   "source": [
    "state_group.plot(kind='bar')\n",
    "plt.title('Créditos otorgados por Estado')"
   ]
  },
  {
   "cell_type": "markdown",
   "metadata": {},
   "source": [
    "# Data checking for credits given  "
   ]
  },
  {
   "cell_type": "code",
   "execution_count": 36,
   "metadata": {},
   "outputs": [
    {
     "name": "stdout",
     "output_type": "stream",
     "text": [
      "Credit Numbers by Products:  5130\n",
      "Credit Numbers by State:  5130\n"
     ]
    }
   ],
   "source": [
    "print(\"Credit Numbers by Products: \", products_group.sum())\n",
    "print(\"Credit Numbers by State: \", state_group.sum())"
   ]
  },
  {
   "cell_type": "markdown",
   "metadata": {},
   "source": [
    "# Credits value by State"
   ]
  },
  {
   "cell_type": "code",
   "execution_count": 45,
   "metadata": {},
   "outputs": [],
   "source": [
    "credit_group = df.groupby(['Estado'])['Importe de los creditos'].sum()"
   ]
  },
  {
   "cell_type": "code",
   "execution_count": 47,
   "metadata": {},
   "outputs": [
    {
     "data": {
      "text/plain": [
       "Text(0.5,1,'Importe de créditos por Estado')"
      ]
     },
     "execution_count": 47,
     "metadata": {},
     "output_type": "execute_result"
    },
    {
     "data": {
      "image/png": "[encoded data removed]",
      "text/plain": [
       "<matplotlib.figure.Figure at 0x120c047c748>"
      ]
     },
     "metadata": {},
     "output_type": "display_data"
    }
   ],
   "source": [
    "credit_group.plot(kind='bar')\n",
    "plt.title('Importe de créditos por Estado')"
   ]
  },
  {
   "cell_type": "code",
   "execution_count": 50,
   "metadata": {},
   "outputs": [
    {
     "name": "stdout",
     "output_type": "stream",
     "text": [
      "Total credit value:  1942686185.3\n",
      "Total credit group by state:  1942686185.3000002\n"
     ]
    }
   ],
   "source": [
    "print(\"Total credit value: \", df['Importe de los creditos'].sum())\n",
    "print(\"Total credit group by state: \", credit_group.sum())"
   ]
  },
  {
   "cell_type": "markdown",
   "metadata": {},
   "source": [
    "# Credits by year"
   ]
  },
  {
   "cell_type": "code",
   "execution_count": 55,
   "metadata": {},
   "outputs": [],
   "source": [
    "credit_number_year = df.groupby(['Año'])['Numero de Creditos'].sum()"
   ]
  },
  {
   "cell_type": "code",
   "execution_count": 59,
   "metadata": {},
   "outputs": [
    {
     "data": {
      "text/plain": [
       "Text(0.5,1,'Número de créditos por año')"
      ]
     },
     "execution_count": 59,
     "metadata": {},
     "output_type": "execute_result"
    },
    {
     "data": {
      "image/png": "[encoded data removed]",
      "text/plain": [
       "<matplotlib.figure.Figure at 0x120c066e3c8>"
      ]
     },
     "metadata": {},
     "output_type": "display_data"
    }
   ],
   "source": [
    "credit_number_year.plot(kind='bar')\n",
    "plt.title('Número de créditos por año')"
   ]
  },
  {
   "cell_type": "code",
   "execution_count": 57,
   "metadata": {},
   "outputs": [],
   "source": [
    "credit_credit_value = df.groupby(['Año'])['Importe de los creditos'].sum()"
   ]
  },
  {
   "cell_type": "code",
   "execution_count": 60,
   "metadata": {},
   "outputs": [
    {
     "data": {
      "text/plain": [
       "Text(0.5,1,'Importe de créditos por año')"
      ]
     },
     "execution_count": 60,
     "metadata": {},
     "output_type": "execute_result"
    },
    {
     "data": {
      "image/png": "[encoded data removed]",
      "text/plain": [
       "<matplotlib.figure.Figure at 0x120c071a048>"
      ]
     },
     "metadata": {},
     "output_type": "display_data"
    }
   ],
   "source": [
    "credit_credit_value.plot(kind='bar')\n",
    "plt.title('Importe de créditos por año')"
   ]
  },
  {
   "cell_type": "markdown",
   "metadata": {},
   "source": [
    "# Credits by year"
   ]
  },
  {
   "cell_type": "code",
   "execution_count": 79,
   "metadata": {},
   "outputs": [],
   "source": [
    "year_2017 = df[df['Año'] == 2017].groupby(['Productos'])['Numero de Creditos'].sum()"
   ]
  },
  {
   "cell_type": "code",
   "execution_count": 80,
   "metadata": {},
   "outputs": [],
   "source": [
    "year_2016 = df[df['Año'] == 2016].groupby(['Productos'])['Numero de Creditos'].sum()"
   ]
  },
  {
   "cell_type": "code",
   "execution_count": 81,
   "metadata": {},
   "outputs": [],
   "source": [
    "year_2015 = df[df['Año'] == 2015].groupby(['Productos'])['Numero de Creditos'].sum()"
   ]
  },
  {
   "cell_type": "code",
   "execution_count": 91,
   "metadata": {},
   "outputs": [],
   "source": [
    "dict_years = {'2017': year_2017, '2016': year_2016, '2015': year_2015}"
   ]
  },
  {
   "cell_type": "code",
   "execution_count": 93,
   "metadata": {},
   "outputs": [],
   "source": [
    "df2 = pd.DataFrame(dict_years)"
   ]
  },
  {
   "cell_type": "code",
   "execution_count": 94,
   "metadata": {},
   "outputs": [
    {
     "data": {
      "text/html": [
       "<div>\n",
       "<style scoped>\n",
       "    .dataframe tbody tr th:only-of-type {\n",
       "        vertical-align: middle;\n",
       "    }\n",
       "\n",
       "    .dataframe tbody tr th {\n",
       "        vertical-align: top;\n",
       "    }\n",
       "\n",
       "    .dataframe thead th {\n",
       "        text-align: right;\n",
       "    }\n",
       "</style>\n",
       "<table border=\"1\" class=\"dataframe\">\n",
       "  <thead>\n",
       "    <tr style=\"text-align: right;\">\n",
       "      <th></th>\n",
       "      <th>2015</th>\n",
       "      <th>2016</th>\n",
       "      <th>2017</th>\n",
       "    </tr>\n",
       "    <tr>\n",
       "      <th>Productos</th>\n",
       "      <th></th>\n",
       "      <th></th>\n",
       "      <th></th>\n",
       "    </tr>\n",
       "  </thead>\n",
       "  <tbody>\n",
       "    <tr>\n",
       "      <th>1.- TU CREDITO PARA CRECER</th>\n",
       "      <td>101</td>\n",
       "      <td>187</td>\n",
       "      <td>146</td>\n",
       "    </tr>\n",
       "    <tr>\n",
       "      <th>2.- TU CREDITO PYME JOVEN</th>\n",
       "      <td>205</td>\n",
       "      <td>607</td>\n",
       "      <td>925</td>\n",
       "    </tr>\n",
       "    <tr>\n",
       "      <th>3.- INCUBACION EN LINEA</th>\n",
       "      <td>113</td>\n",
       "      <td>1161</td>\n",
       "      <td>1621</td>\n",
       "    </tr>\n",
       "    <tr>\n",
       "      <th>4.- INCUBACION PRESENCIAL</th>\n",
       "      <td>5</td>\n",
       "      <td>28</td>\n",
       "      <td>31</td>\n",
       "    </tr>\n",
       "  </tbody>\n",
       "</table>\n",
       "</div>"
      ],
      "text/plain": [
       "                            2015  2016  2017\n",
       "Productos                                   \n",
       "1.- TU CREDITO PARA CRECER   101   187   146\n",
       "2.- TU CREDITO PYME JOVEN    205   607   925\n",
       "3.- INCUBACION EN LINEA      113  1161  1621\n",
       "4.- INCUBACION PRESENCIAL      5    28    31"
      ]
     },
     "execution_count": 94,
     "metadata": {},
     "output_type": "execute_result"
    }
   ],
   "source": [
    "df2.head()"
   ]
  },
  {
   "cell_type": "code",
   "execution_count": 97,
   "metadata": {},
   "outputs": [
    {
     "data": {
      "text/plain": [
       "Text(0.5,1,'Créditos otorgados por año')"
      ]
     },
     "execution_count": 97,
     "metadata": {},
     "output_type": "execute_result"
    },
    {
     "data": {
      "image/png": "[encoded data removed]",
      "text/plain": [
       "<matplotlib.figure.Figure at 0x120c096d160>"
      ]
     },
     "metadata": {},
     "output_type": "display_data"
    }
   ],
   "source": [
    "df2.plot(kind='bar')\n",
    "plt.title('Créditos otorgados por año')"
   ]
  },
  {
   "cell_type": "markdown",
   "metadata": {},
   "source": [
    "# Credits value by year"
   ]
  },
  {
   "cell_type": "code",
   "execution_count": 98,
   "metadata": {},
   "outputs": [],
   "source": [
    "value_2017 = df[df['Año'] == 2017].groupby(['Productos'])['Importe de los creditos'].sum()"
   ]
  },
  {
   "cell_type": "code",
   "execution_count": 100,
   "metadata": {},
   "outputs": [],
   "source": [
    "value_2016 = df[df['Año'] == 2016].groupby(['Productos'])['Importe de los creditos'].sum()"
   ]
  },
  {
   "cell_type": "code",
   "execution_count": 101,
   "metadata": {},
   "outputs": [],
   "source": [
    "value_2015 = df[df['Año'] == 2015].groupby(['Productos'])['Importe de los creditos'].sum()"
   ]
  },
  {
   "cell_type": "code",
   "execution_count": 102,
   "metadata": {},
   "outputs": [],
   "source": [
    "value_years = {'2017': value_2017, '2016': value_2016, '2015': value_2015}"
   ]
  },
  {
   "cell_type": "code",
   "execution_count": 103,
   "metadata": {},
   "outputs": [],
   "source": [
    "df3 = pd.DataFrame(value_years)"
   ]
  },
  {
   "cell_type": "code",
   "execution_count": 104,
   "metadata": {},
   "outputs": [
    {
     "data": {
      "text/html": [
       "<div>\n",
       "<style scoped>\n",
       "    .dataframe tbody tr th:only-of-type {\n",
       "        vertical-align: middle;\n",
       "    }\n",
       "\n",
       "    .dataframe tbody tr th {\n",
       "        vertical-align: top;\n",
       "    }\n",
       "\n",
       "    .dataframe thead th {\n",
       "        text-align: right;\n",
       "    }\n",
       "</style>\n",
       "<table border=\"1\" class=\"dataframe\">\n",
       "  <thead>\n",
       "    <tr style=\"text-align: right;\">\n",
       "      <th></th>\n",
       "      <th>2015</th>\n",
       "      <th>2016</th>\n",
       "      <th>2017</th>\n",
       "    </tr>\n",
       "    <tr>\n",
       "      <th>Productos</th>\n",
       "      <th></th>\n",
       "      <th></th>\n",
       "      <th></th>\n",
       "    </tr>\n",
       "  </thead>\n",
       "  <tbody>\n",
       "    <tr>\n",
       "      <th>1.- TU CREDITO PARA CRECER</th>\n",
       "      <td>1.740192e+07</td>\n",
       "      <td>3.076867e+07</td>\n",
       "      <td>2.882717e+07</td>\n",
       "    </tr>\n",
       "    <tr>\n",
       "      <th>2.- TU CREDITO PYME JOVEN</th>\n",
       "      <td>1.376964e+08</td>\n",
       "      <td>4.302108e+08</td>\n",
       "      <td>8.695358e+08</td>\n",
       "    </tr>\n",
       "    <tr>\n",
       "      <th>3.- INCUBACION EN LINEA</th>\n",
       "      <td>1.542600e+07</td>\n",
       "      <td>1.590866e+08</td>\n",
       "      <td>2.304585e+08</td>\n",
       "    </tr>\n",
       "    <tr>\n",
       "      <th>4.- INCUBACION PRESENCIAL</th>\n",
       "      <td>1.647822e+06</td>\n",
       "      <td>1.057707e+07</td>\n",
       "      <td>1.104935e+07</td>\n",
       "    </tr>\n",
       "  </tbody>\n",
       "</table>\n",
       "</div>"
      ],
      "text/plain": [
       "                                    2015          2016          2017\n",
       "Productos                                                           \n",
       "1.- TU CREDITO PARA CRECER  1.740192e+07  3.076867e+07  2.882717e+07\n",
       "2.- TU CREDITO PYME JOVEN   1.376964e+08  4.302108e+08  8.695358e+08\n",
       "3.- INCUBACION EN LINEA     1.542600e+07  1.590866e+08  2.304585e+08\n",
       "4.- INCUBACION PRESENCIAL   1.647822e+06  1.057707e+07  1.104935e+07"
      ]
     },
     "execution_count": 104,
     "metadata": {},
     "output_type": "execute_result"
    }
   ],
   "source": [
    "df3.head()"
   ]
  },
  {
   "cell_type": "code",
   "execution_count": 105,
   "metadata": {},
   "outputs": [
    {
     "data": {
      "text/plain": [
       "Text(0.5,1,'Importe de créditos por año')"
      ]
     },
     "execution_count": 105,
     "metadata": {},
     "output_type": "execute_result"
    },
    {
     "data": {
      "image/png": "[encoded data removed]",
      "text/plain": [
       "<matplotlib.figure.Figure at 0x120c0965b70>"
      ]
     },
     "metadata": {},
     "output_type": "display_data"
    }
   ],
   "source": [
    "df3.plot(kind='bar')\n",
    "plt.title(\"Importe de créditos por año\")"
   ]
  },
  {
   "cell_type": "code",
   "execution_count": null,
   "metadata": {},
   "outputs": [],
   "source": []
  }
 ],
 "metadata": {
  "kernelspec": {
   "display_name": "Python 3",
   "language": "python",
   "name": "python3"
  },
  "language_info": {
   "codemirror_mode": {
    "name": "ipython",
    "version": 3
   },
   "file_extension": ".py",
   "mimetype": "text/x-python",
   "name": "python",
   "nbconvert_exporter": "python",
   "pygments_lexer": "ipython3",
   "version": "3.6.4"
  }
 },
 "nbformat": 4,
 "nbformat_minor": 2
}
